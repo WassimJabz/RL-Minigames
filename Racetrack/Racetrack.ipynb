{
 "cells": [
  {
   "cell_type": "code",
   "execution_count": 60,
   "metadata": {},
   "outputs": [],
   "source": [
    "import numpy as np\n",
    "import sys\n",
    "from matplotlib import pyplot as plt\n",
    "from matplotlib import colors\n",
    "\n",
    "np.random.seed(1)"
   ]
  },
  {
   "cell_type": "markdown",
   "metadata": {},
   "source": [
    "This minigame is recommended exercise 5.12 of the book \"Reinforcement Learning: An introduction\" by Sutton & Barro."
   ]
  },
  {
   "cell_type": "markdown",
   "metadata": {},
   "source": [
    "# Building the game"
   ]
  },
  {
   "cell_type": "code",
   "execution_count": null,
   "metadata": {},
   "outputs": [],
   "source": [
    "def create_racetrack():\n",
    "\n",
    "    grid = np.zeros((40, 30))\n",
    "\n",
    "    # Start line\n",
    "    for j in range(grid.shape[1]):\n",
    "        grid[grid.shape[0] - 1][j] = 1\n",
    "\n",
    "    # Finish line\n",
    "    for i in range(1, 10):\n",
    "        grid[i][-1] = 2\n",
    "\n",
    "    # Left side shape\n",
    "    for i in range(grid.shape[0] - 5): # Do not touch the bottom 5 rows (Start position)\n",
    "        left_limit = np.random.normal(5, 1) # On average the leftmost 5 squares are out of map\n",
    "        for j in range(int(left_limit)):\n",
    "            grid[i][j] = 3\n",
    "\n",
    "    # Right side shape\n",
    "    for i in range(10, grid.shape[0] - 5): # The top 10 rows are reserved for the finish line\n",
    "        right_limit = np.random.normal(7, 1) # On average the rightmost 7 squares are out of the map \n",
    "        for j in range(int(right_limit)):\n",
    "                grid[i][grid.shape[1] - j - 1] = 3\n",
    "\n",
    "    # Bounds around the map\n",
    "    for i in range(grid.shape[1]):\n",
    "        grid[0][i] = 3\n",
    "    for i in range(5):\n",
    "        grid[grid.shape[0] - i - 1][0] = 3\n",
    "        grid[grid.shape[0] - i - 1][-1] = 3"
   ]
  },
  {
   "cell_type": "code",
   "execution_count": 65,
   "metadata": {},
   "outputs": [],
   "source": [
    "class CarGame:\n",
    "\n",
    "    def __init__(self):\n",
    "\n",
    "        self.grid = create_racetrack() \n",
    "        self.respawn()\n",
    "        \n",
    "    \n",
    "    def respawn(self):\n",
    "        self.current_row = self.grid.shape[0] - 1 \n",
    "        self.current_col = np.random.randint(0, 30) # Start anywhere on the starting line\n",
    "        self.vertical_v = 0\n",
    "        self.horizontal_v = 0\n",
    "\n",
    "    def get_actions(self):\n",
    "        possible_action_pairs = []\n",
    "\n",
    "        for vertical_increment in range(-1, 2):\n",
    "            for horizontal_increment in range(-1, 2):\n",
    "                if self.is_legal_action(vertical_increment, horizontal_increment):\n",
    "                    possible_action_pairs.add((vertical_increment, horizontal_increment))\n",
    "        \n",
    "        return possible_action_pairs\n",
    "    \n",
    "    def is_legal_action(self, vertical_increment, horizontal_increment):\n",
    "        \n",
    "        # No component can be negative\n",
    "        if((self.vertical_v + vertical_increment < 0) or (self.horizontal_v + horizontal_increment < 0)):\n",
    "            return False\n",
    "        \n",
    "        # No component can be 5 or more\n",
    "        if ((self.vertical_v + vertical_increment >= 5) or (self.horizontal_v + horizontal_increment >= 5)):\n",
    "            return False\n",
    "        \n",
    "        # The two components cannot both be 0\n",
    "        if ((self.vertical_v + vertical_increment == 0) and (self.horizontal_v + horizontal_increment == 0)):\n",
    "            return False\n",
    "        \n",
    "        return True\n",
    "    \n",
    "    def update_position()"
   ]
  },
  {
   "cell_type": "code",
   "execution_count": 66,
   "metadata": {},
   "outputs": [],
   "source": [
    "car_game = CarGame()\n",
    "np.savetxt(\"sample_grid.txt\", car_game.grid, fmt=\"%d\")"
   ]
  },
  {
   "cell_type": "code",
   "execution_count": 71,
   "metadata": {},
   "outputs": [
    {
     "data": {
      "image/png": "[encoded data removed]",
      "text/plain": [
       "<Figure size 600x1000 with 1 Axes>"
      ]
     },
     "metadata": {},
     "output_type": "display_data"
    }
   ],
   "source": [
    "cmap = colors.ListedColormap(['blue','red', 'green', 'orange'])\n",
    "plt.figure(figsize=(6,10))\n",
    "plt.pcolor(car_game.grid[::-1],cmap=cmap,edgecolors='k', linewidths=1)\n",
    "plt.title(\"Generated racetrack\")\n",
    "plt.show()"
   ]
  },
  {
   "cell_type": "markdown",
   "metadata": {},
   "source": [
    "# On-policy first visit MC control"
   ]
  },
  {
   "cell_type": "code",
   "execution_count": null,
   "metadata": {},
   "outputs": [],
   "source": [
    "def on_policy_first_visit_MC_control"
   ]
  }
 ],
 "metadata": {
  "kernelspec": {
   "display_name": "env",
   "language": "python",
   "name": "python3"
  },
  "language_info": {
   "codemirror_mode": {
    "name": "ipython",
    "version": 3
   },
   "file_extension": ".py",
   "mimetype": "text/x-python",
   "name": "python",
   "nbconvert_exporter": "python",
   "pygments_lexer": "ipython3",
   "version": "3.10.4"
  }
 },
 "nbformat": 4,
 "nbformat_minor": 2
}
